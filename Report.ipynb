{
 "cells": [
  {
   "cell_type": "markdown",
   "metadata": {},
   "source": [
    "# Deep RL Banana Agent - How it works and what it does\n",
    "\n",
    "---\n",
    "\n",
    "Unity ML-Agents Toolkit provides a variety of open-source 3D environments that can be used to train an intelligent agent. In this project we'll look at the Banana Agent, whose world is a square box, and whose objective is to collect as many yellow bananas as possible while actively avoiding blue ones. In this project I'll solve the Banana Agent environment by training an intelligent agent to gather bananas.\n",
    "\n",
    "### Learning Algorithm\n",
    "\n",
    "The learning algorithm being used is the Double DQN. The concept of double q learning was introduced to address a problem of overoptimism with q-learning, and to overcome this, the general idea is to use the target network to decide the value of taking the next action in the next state, in the Bellman equation we use to create the target q values. \n",
    "- https://arxiv.org/pdf/1509.06461.pdf\n",
    "- https://medium.freecodecamp.org/improvements-in-deep-q-learning-dueling-double-dqn-prioritized-experience-replay-and-fixed-58b130cc5682\n",
    "\n",
    "I wanted to try improving the standard DQN and the Double DQN looked like a good option to implement, so I went with it and was impressed with the results. The Double DQN agent trained faster and with higher scores than the standard DQN.\n",
    "\n",
    "The agent requires several parameters in order to be trained.  Through a process of trial and error I decided on the following. Some are still default from the lunar lander code I adapted for the banana environment, and others I've tweaked a bit to better suit the banana environment.\n",
    "- BUFFER_SIZE = 50000     \n",
    "Replay buffer size, the number of states to remember and select from when creating a training batch.\n",
    "- BATCH_SIZE = 64         \n",
    "The number of states seen per training batch.\n",
    "- GAMMA = 0.99            \n",
    "Discount factor used in the bellman equation when creating target q values.\n",
    "- TAU = 1e-3              \n",
    "For soft update of target parameters, when copying local network into target.\n",
    "- LR = 0.001              \n",
    "It's the default learning rate for adam optimizer.\n",
    "- UPDATE_EVERY = 4        \n",
    "How many environment steps to take until updating the network. I'm sticking with 4 as suggested in previous exercises.\n",
    "\n",
    "The neural network being used is a MLP style network with 3 fully connected layers. Its input size is the length of the state vector (the actual size is configurable as explained in the cells below), and its output size is the number of actions available to the agent.\n",
    "  - (fc1): Linear(in_features=37 (configurable parameter), out_features=256, bias=True)\n",
    "  - (fc2): Linear(in_features=256, out_features=256, bias=True)\n",
    "  - (fc3): Linear(in_features=256, out_features=4, bias=True)\n",
    "  \n",
    "After a few runs of trial and error I found a network of this size was performing well. While experimenting I tried models with more and less capacity and ultimately found this was performing well.\n",
    "\n",
    "### Ideas for Future Work\n",
    "I'd really like to try the 'from pixels' version of this environment like they did in the DQN paper. I think the concept is a pretty simple extension of what I've already done, the model should be updated to accept raw pixels into a few layers of Conv2d, flattened, and then passed through fully connected as is done now. In the DQN paper they stack 4 frames as the input to the conv net which inspired me to experiment with something similar when implementing an agent for the banana environment.\n",
    "\n",
    "The Dueling DQN looks interesting as well, I think that would be a relatively easy upgrade to make to the model. Essentially you add branching paths in the model so it can learn state value and advantage separately, which is helpful in situations where certain actions have no meaningul effect on the environment. That is my understanding, I would like to learn more about it any try to implement it. The blog post mentioned earlier has some sample code in tensorflow that I was learning from. \n",
    "\n",
    "Another approach I'd like to try is with an LSTM, I'm not sure how well this would work and I haven't exactly planned it out, but I think you could model the agent's time in the environment as a sequence of events and provide that to an LSTM to find temporal relationships. You might have to rethink the replay buffer to do this with an LSTM, I'm not sure what the standard approach looks like but it's fun to think about."
   ]
  },
  {
   "cell_type": "markdown",
   "metadata": {},
   "source": [
    "### Train the agent\n",
    "\n",
    "In the code cell below we train the agent for a number of episodes using the Unity environment. The agent will train until it can achieve an average score of 15 or higher over the last 100 episodes. The agent was implemented with the ability to 'look back' a few steps by including prior states in the training state, and this was inspired by the DQN paper where their 'learn by pixels' approach stacked the current frame plus the last 3 as input to the conv net. My model works similarly by exposing prior states during training. "
   ]
  },
  {
   "cell_type": "code",
   "execution_count": 1,
   "metadata": {
    "scrolled": false
   },
   "outputs": [
    {
     "name": "stderr",
     "output_type": "stream",
     "text": [
      "INFO:unityagents:\n",
      "'Academy' started successfully!\n",
      "Unity Academy name: Academy\n",
      "        Number of Brains: 1\n",
      "        Number of External Brains : 1\n",
      "        Lesson number : 0\n",
      "        Reset Parameters :\n",
      "\t\t\n",
      "Unity brain name: BananaBrain\n",
      "        Number of Visual Observations (per agent): 0\n",
      "        Vector Observation space type: continuous\n",
      "        Vector Observation space size (per agent): 37\n",
      "        Number of stacked Vector Observation: 1\n",
      "        Vector Action space type: discrete\n",
      "        Vector Action space size (per agent): 4\n",
      "        Vector Action descriptions: , , , \n"
     ]
    },
    {
     "name": "stdout",
     "output_type": "stream",
     "text": [
      "Episode 100\tAverage Score: 0.54\tActual Score:0.000\n",
      "Episode 200\tAverage Score: 2.17\tActual Score:1.000\n",
      "Episode 300\tAverage Score: 4.43\tActual Score:6.000\n",
      "Episode 400\tAverage Score: 7.58\tActual Score:9.000\n",
      "Episode 500\tAverage Score: 10.75\tActual Score:16.00\n",
      "Episode 600\tAverage Score: 11.72\tActual Score:16.00\n",
      "Episode 700\tAverage Score: 13.32\tActual Score:14.00\n",
      "Episode 800\tAverage Score: 14.66\tActual Score:10.00\n",
      "Episode 900\tAverage Score: 14.77\tActual Score:14.00\n",
      "Episode 1000\tAverage Score: 14.85\tActual Score:17.00\n",
      "Episode 1009\tAverage Score: 15.00\tActual Score:16.00\n",
      "Environment solved in 909 episodes!\tAverage Score: 15.00\tActual Score:16.00\n"
     ]
    },
    {
     "data": {
      "image/png": "[encoded data removed]",
      "text/plain": [
       "<Figure size 432x288 with 1 Axes>"
      ]
     },
     "metadata": {
      "needs_background": "light"
     },
     "output_type": "display_data"
    }
   ],
   "source": [
    "from dqn_agent import Agent\n",
    "import Deep_Q_Network as dqn\n",
    "import numpy as np\n",
    "import matplotlib.pyplot as plt\n",
    "%matplotlib inline\n",
    "plt.ion()\n",
    "\n",
    "brain_name, env, env_info, state, state_size, action_size = dqn.new_unity_environment()\n",
    "\n",
    "# inspired by the DQN paper, I tried including prior episodes to train the model\n",
    "look_back_x_episodes = 4\n",
    "state_size = state_size * look_back_x_episodes + (5 * look_back_x_episodes)\n",
    "\n",
    "# even though this environment is 'solved' with an average score of 13, this agent \n",
    "# can do a little better so it will train until 15\n",
    "agent = Agent(state_size=state_size, action_size=action_size, seed=0)\n",
    "scores = dqn.dqn_train(agent, env, brain_name, state_size)\n",
    "env.close()\n",
    "\n",
    "# plot the scores\n",
    "fig = plt.figure()\n",
    "ax = fig.add_subplot(111)\n",
    "plt.plot(np.arange(len(scores)), scores)\n",
    "plt.ylabel('Score')\n",
    "plt.xlabel('Episode #')\n",
    "plt.show()\n",
    "\n"
   ]
  },
  {
   "cell_type": "markdown",
   "metadata": {},
   "source": [
    "### Watch a trained agent!\n",
    "\n",
    "Run the code cell below to watch a trained agent in the Unity environment. In this cell you can also see the experimental training state being used, which includes the last few states plus the action and reward that were taken in those states. Including the reward in the training data actually lowered overall performance by a point, but it was an interesting exercise to try so I kept it for the submission, if only to show that it's not a great idea. Including prior states did help the agent train more quickly, so now to use the trained agent we need to build up the same state in order to choose the next action.\n",
    "\n",
    "Run the next code cell to see the trained agent in action!"
   ]
  },
  {
   "cell_type": "code",
   "execution_count": 1,
   "metadata": {},
   "outputs": [
    {
     "name": "stderr",
     "output_type": "stream",
     "text": [
      "INFO:unityagents:\n",
      "'Academy' started successfully!\n",
      "Unity Academy name: Academy\n",
      "        Number of Brains: 1\n",
      "        Number of External Brains : 1\n",
      "        Lesson number : 0\n",
      "        Reset Parameters :\n",
      "\t\t\n",
      "Unity brain name: BananaBrain\n",
      "        Number of Visual Observations (per agent): 0\n",
      "        Vector Observation space type: continuous\n",
      "        Vector Observation space size (per agent): 37\n",
      "        Number of stacked Vector Observation: 1\n",
      "        Vector Action space type: discrete\n",
      "        Vector Action space size (per agent): 4\n",
      "        Vector Action descriptions: , , , \n"
     ]
    },
    {
     "name": "stdout",
     "output_type": "stream",
     "text": [
      "Score: 14.0\n"
     ]
    }
   ],
   "source": [
    "from dqn_agent import Agent\n",
    "from collections import deque\n",
    "import Deep_Q_Network as dqn\n",
    "import numpy as np\n",
    "import matplotlib.pyplot as plt\n",
    "import torch\n",
    "%matplotlib inline\n",
    "plt.ion()\n",
    "\n",
    "brain_name, env, env_info, state, state_size, action_size = dqn.new_unity_environment()\n",
    "\n",
    "look_back_x_episodes = 4\n",
    "state_size = state_size * look_back_x_episodes + (5 * look_back_x_episodes)\n",
    "\n",
    "# load the weights for the model that was trained to \n",
    "agent = Agent(state_size=state_size, action_size=action_size)\n",
    "agent.qnetwork_local.load_state_dict(torch.load('./15.00_checkpoint.pth'))\n",
    "\n",
    "\n",
    "state = deque(maxlen=state_size)   # init state with all zeros\n",
    "[state.append((0)) for _ in range(state_size)] \n",
    "one_hot_actions = [0 for i in range(agent.action_size)]\n",
    "\n",
    "env_info = env.reset(train_mode=False)[brain_name] # reset the environment\n",
    "_state = env_info.vector_observations[0]           # get the current state\n",
    "state.extend(_state)                               # the training state holds a few prior experiences\n",
    "state.append((0))                                  # plus the current reward\n",
    "state.extend(one_hot_actions)                      # and the action taken\n",
    "score = 0                                          # initialize the score\n",
    "while True:\n",
    "    state_np = np.asarray(state)\n",
    "    action = int(agent.act(state_np))              # select an action\n",
    "    env_info = env.step(action)[brain_name]        # send the action to the environment\n",
    "    next_state = env_info.vector_observations[0]   # get the next state\n",
    "    reward = env_info.rewards[0]                   # get the reward\n",
    "    done = env_info.local_done[0]                  # see if episode has finished\n",
    "    \n",
    "    # roll over the state to next time step\n",
    "    one_hot_actions[action] = 1  # let the network know what action was just taken\n",
    "    state.extend(next_state)     # add the next environment state to the training state\n",
    "    state.append((reward))       # add the reward to the training state\n",
    "    one_hot_actions[action] = 0  # reset action vector done\n",
    "    state.extend(one_hot_actions)# add the action to the training state\n",
    "    \n",
    "    score += reward                                # update the score\n",
    "    if done:                                       # exit loop if episode finished\n",
    "        env.close()\n",
    "        break\n",
    "    \n",
    "print(\"Score: {}\".format(score))"
   ]
  }
 ],
 "metadata": {
  "kernelspec": {
   "display_name": "Python 3",
   "language": "python",
   "name": "python3"
  },
  "language_info": {
   "codemirror_mode": {
    "name": "ipython",
    "version": 3
   },
   "file_extension": ".py",
   "mimetype": "text/x-python",
   "name": "python",
   "nbconvert_exporter": "python",
   "pygments_lexer": "ipython3",
   "version": "3.6.8"
  }
 },
 "nbformat": 4,
 "nbformat_minor": 2
}
